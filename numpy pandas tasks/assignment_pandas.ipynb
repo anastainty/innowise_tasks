{
 "cells": [
  {
   "cell_type": "markdown",
   "metadata": {},
   "source": [
    "## Датасет собран из базы данных переписи 1994 года и содержит данные о доходах.\n",
    "### Информация о данных:\n",
    "* age: continuous.\n",
    "* workclass: Private, Self-emp-not-inc, Self-emp-inc, Federal-gov, Local-gov, State-gov, Without-pay, Never-worked.\n",
    "* fnlwgt: continuous.\n",
    "* education: Bachelors, Some-college, 11th, HS-grad, Prof-school, Assoc-acdm, Assoc-voc, 9th, 7th-8th, 12th, * Masters, 1st-4th, 10th, Doctorate, 5th-6th, Preschool.\n",
    "* education-num: continuous.\n",
    "* marital-status: Married-civ-spouse, Divorced, Never-married, Separated, Widowed, Married-spouse-absent, Married-AF-spouse.\n",
    "* occupation: Tech-support, Craft-repair, Other-service, Sales, Exec-managerial, Prof-specialty, Handlers-cleaners, Machine-op-inspct, Adm-clerical, Farming-fishing, Transport-moving, Priv-house-serv, Protective-serv, Armed-Forces.\n",
    "* relationship: Wife, Own-child, Husband, Not-in-family, Other-relative, Unmarried.\n",
    "* race: White, Asian-Pac-Islander, Amer-Indian-Eskimo, Other, Black.\n",
    "* sex: Female, Male.\n",
    "* capital-gain: continuous.\n",
    "* capital-loss: continuous.\n",
    "* hours-per-week: continuous.\n",
    "* native-country: United-States, Cambodia, England, Puerto-Rico, Canada, Germany, Outlying-US(Guam-USVI-etc), India, Japan, Greece, South, China, Cuba, Iran, Honduras, Philippines, Italy, Poland, Jamaica, Vietnam, Mexico, Portugal, Ireland, France, Dominican-Republic, Laos, Ecuador, Taiwan, Haiti, Columbia, Hungary, Guatemala, Nicaragua, Scotland, Thailand, Yugoslavia, El-Salvador, Trinadad&Tobago, Peru, Hong, Holand-Netherlands.\n",
    "* salary: >50K,<=50K\n",
    "\n",
    "## Проведите анализ данных при помощи Pandas выполнив поставленные задачи.\n",
    "#### "
   ]
  },
  {
   "cell_type": "code",
   "execution_count": 8,
   "metadata": {},
   "outputs": [],
   "source": [
    "import pandas as pd"
   ]
  },
  {
   "cell_type": "code",
   "execution_count": 58,
   "metadata": {},
   "outputs": [
    {
     "data": {
      "text/html": [
       "<div>\n",
       "<style scoped>\n",
       "    .dataframe tbody tr th:only-of-type {\n",
       "        vertical-align: middle;\n",
       "    }\n",
       "\n",
       "    .dataframe tbody tr th {\n",
       "        vertical-align: top;\n",
       "    }\n",
       "\n",
       "    .dataframe thead th {\n",
       "        text-align: right;\n",
       "    }\n",
       "</style>\n",
       "<table border=\"1\" class=\"dataframe\">\n",
       "  <thead>\n",
       "    <tr style=\"text-align: right;\">\n",
       "      <th></th>\n",
       "      <th>age</th>\n",
       "      <th>workclass</th>\n",
       "      <th>fnlwgt</th>\n",
       "      <th>education</th>\n",
       "      <th>education-num</th>\n",
       "      <th>marital-status</th>\n",
       "      <th>occupation</th>\n",
       "      <th>relationship</th>\n",
       "      <th>race</th>\n",
       "      <th>sex</th>\n",
       "      <th>capital-gain</th>\n",
       "      <th>capital-loss</th>\n",
       "      <th>hours-per-week</th>\n",
       "      <th>native-country</th>\n",
       "      <th>salary</th>\n",
       "    </tr>\n",
       "  </thead>\n",
       "  <tbody>\n",
       "    <tr>\n",
       "      <th>0</th>\n",
       "      <td>39</td>\n",
       "      <td>State-gov</td>\n",
       "      <td>77516</td>\n",
       "      <td>Bachelors</td>\n",
       "      <td>13</td>\n",
       "      <td>Never-married</td>\n",
       "      <td>Adm-clerical</td>\n",
       "      <td>Not-in-family</td>\n",
       "      <td>White</td>\n",
       "      <td>Male</td>\n",
       "      <td>2174</td>\n",
       "      <td>0</td>\n",
       "      <td>40</td>\n",
       "      <td>United-States</td>\n",
       "      <td>&lt;=50K</td>\n",
       "    </tr>\n",
       "    <tr>\n",
       "      <th>1</th>\n",
       "      <td>50</td>\n",
       "      <td>Self-emp-not-inc</td>\n",
       "      <td>83311</td>\n",
       "      <td>Bachelors</td>\n",
       "      <td>13</td>\n",
       "      <td>Married-civ-spouse</td>\n",
       "      <td>Exec-managerial</td>\n",
       "      <td>Husband</td>\n",
       "      <td>White</td>\n",
       "      <td>Male</td>\n",
       "      <td>0</td>\n",
       "      <td>0</td>\n",
       "      <td>13</td>\n",
       "      <td>United-States</td>\n",
       "      <td>&lt;=50K</td>\n",
       "    </tr>\n",
       "    <tr>\n",
       "      <th>2</th>\n",
       "      <td>38</td>\n",
       "      <td>Private</td>\n",
       "      <td>215646</td>\n",
       "      <td>HS-grad</td>\n",
       "      <td>9</td>\n",
       "      <td>Divorced</td>\n",
       "      <td>Handlers-cleaners</td>\n",
       "      <td>Not-in-family</td>\n",
       "      <td>White</td>\n",
       "      <td>Male</td>\n",
       "      <td>0</td>\n",
       "      <td>0</td>\n",
       "      <td>40</td>\n",
       "      <td>United-States</td>\n",
       "      <td>&lt;=50K</td>\n",
       "    </tr>\n",
       "    <tr>\n",
       "      <th>3</th>\n",
       "      <td>53</td>\n",
       "      <td>Private</td>\n",
       "      <td>234721</td>\n",
       "      <td>11th</td>\n",
       "      <td>7</td>\n",
       "      <td>Married-civ-spouse</td>\n",
       "      <td>Handlers-cleaners</td>\n",
       "      <td>Husband</td>\n",
       "      <td>Black</td>\n",
       "      <td>Male</td>\n",
       "      <td>0</td>\n",
       "      <td>0</td>\n",
       "      <td>40</td>\n",
       "      <td>United-States</td>\n",
       "      <td>&lt;=50K</td>\n",
       "    </tr>\n",
       "    <tr>\n",
       "      <th>4</th>\n",
       "      <td>28</td>\n",
       "      <td>Private</td>\n",
       "      <td>338409</td>\n",
       "      <td>Bachelors</td>\n",
       "      <td>13</td>\n",
       "      <td>Married-civ-spouse</td>\n",
       "      <td>Prof-specialty</td>\n",
       "      <td>Wife</td>\n",
       "      <td>Black</td>\n",
       "      <td>Female</td>\n",
       "      <td>0</td>\n",
       "      <td>0</td>\n",
       "      <td>40</td>\n",
       "      <td>Cuba</td>\n",
       "      <td>&lt;=50K</td>\n",
       "    </tr>\n",
       "  </tbody>\n",
       "</table>\n",
       "</div>"
      ],
      "text/plain": [
       "   age         workclass  fnlwgt  education  education-num  \\\n",
       "0   39         State-gov   77516  Bachelors             13   \n",
       "1   50  Self-emp-not-inc   83311  Bachelors             13   \n",
       "2   38           Private  215646    HS-grad              9   \n",
       "3   53           Private  234721       11th              7   \n",
       "4   28           Private  338409  Bachelors             13   \n",
       "\n",
       "       marital-status         occupation   relationship   race     sex  \\\n",
       "0       Never-married       Adm-clerical  Not-in-family  White    Male   \n",
       "1  Married-civ-spouse    Exec-managerial        Husband  White    Male   \n",
       "2            Divorced  Handlers-cleaners  Not-in-family  White    Male   \n",
       "3  Married-civ-spouse  Handlers-cleaners        Husband  Black    Male   \n",
       "4  Married-civ-spouse     Prof-specialty           Wife  Black  Female   \n",
       "\n",
       "   capital-gain  capital-loss  hours-per-week native-country salary  \n",
       "0          2174             0              40  United-States  <=50K  \n",
       "1             0             0              13  United-States  <=50K  \n",
       "2             0             0              40  United-States  <=50K  \n",
       "3             0             0              40  United-States  <=50K  \n",
       "4             0             0              40           Cuba  <=50K  "
      ]
     },
     "execution_count": 58,
     "metadata": {},
     "output_type": "execute_result"
    }
   ],
   "source": [
    "data = pd.read_csv(\"/Users/anastasiaintyakova/innowise/adult.data.csv\")\n",
    "data.head()"
   ]
  },
  {
   "cell_type": "markdown",
   "metadata": {},
   "source": [
    "**1. Посчитайте, сколько мужчин и женщин (признак *sex*) представлено в этом датасете**"
   ]
  },
  {
   "cell_type": "code",
   "execution_count": 24,
   "metadata": {},
   "outputs": [
    {
     "name": "stdout",
     "output_type": "stream",
     "text": [
      "Количество мужчин и женщин в датасете:\n",
      "\n",
      "Мужчин: 21790\n",
      "Женщин: 10771\n"
     ]
    }
   ],
   "source": [
    "sex_counts = data['sex'].value_counts()\n",
    "\n",
    "print(\"Количество мужчин и женщин в датасете:\")\n",
    "print(f\"\\nМужчин: {sex_counts.get('Male', 0)}\")\n",
    "print(f\"Женщин: {sex_counts.get('Female', 0)}\")"
   ]
  },
  {
   "cell_type": "markdown",
   "metadata": {},
   "source": [
    "**2. Каков средний возраст мужчин (признак *age*) по всему датасету?**"
   ]
  },
  {
   "cell_type": "code",
   "execution_count": 22,
   "metadata": {},
   "outputs": [
    {
     "name": "stdout",
     "output_type": "stream",
     "text": [
      "Средний возраст мужчин в датасете: 39.43 лет\n"
     ]
    }
   ],
   "source": [
    "men_data = data[data['sex'] == 'Male']\n",
    "\n",
    "average_age_men = men_data['age'].mean()\n",
    "\n",
    "print(f\"Средний возраст мужчин в датасете: {average_age_men:.2f} лет\")"
   ]
  },
  {
   "cell_type": "markdown",
   "metadata": {},
   "source": [
    "**3. Какова доля граждан Соединенных Штатов (признак *native-country*)?**"
   ]
  },
  {
   "cell_type": "code",
   "execution_count": 26,
   "metadata": {},
   "outputs": [
    {
     "name": "stdout",
     "output_type": "stream",
     "text": [
      "Общее количество записей в датасете: 32561\n",
      "Количество граждан Соединенных Штатов: 29170\n",
      "Доля граждан Соединенных Штатов: 89.59%\n"
     ]
    }
   ],
   "source": [
    "data['native-country'] = data['native-country'].str.strip()\n",
    "\n",
    "total_citizens = data.shape[0]\n",
    "\n",
    "us_citizens = data[data['native-country'] == 'United-States'].shape[0]\n",
    "\n",
    "proportion_us_citizens = us_citizens / total_citizens\n",
    "\n",
    "print(f\"Общее количество записей в датасете: {total_citizens}\")\n",
    "print(f\"Количество граждан Соединенных Штатов: {us_citizens}\")\n",
    "print(f\"Доля граждан Соединенных Штатов: {proportion_us_citizens:.2%}\")"
   ]
  },
  {
   "cell_type": "markdown",
   "metadata": {},
   "source": [
    "**4-5. Рассчитайте среднее значение и среднеквадратичное отклонение возраста тех, кто получает более 50K в год (признак *salary*) и тех, кто получает менее 50K в год**"
   ]
  },
  {
   "cell_type": "code",
   "execution_count": 30,
   "metadata": {},
   "outputs": [
    {
     "name": "stdout",
     "output_type": "stream",
     "text": [
      "Для группы с доходом >50K:\n",
      "  Средний возраст: 44.25 лет\n",
      "  Среднеквадратичное отклонение возраста: 10.52 лет\n",
      "\n",
      "Для группы с доходом <=50K:\n",
      "  Средний возраст: 36.78 лет\n",
      "  Среднеквадратичное отклонение возраста: 14.02 лет\n"
     ]
    }
   ],
   "source": [
    "data['salary'] = data['salary'].str.strip()\n",
    "\n",
    "high_income_data = data[data['salary'] == '>50K']\n",
    "\n",
    "low_income_data = data[data['salary'] == '<=50K']\n",
    "\n",
    "mean_age_high_income = high_income_data['age'].mean()\n",
    "std_age_high_income = high_income_data['age'].std()\n",
    "\n",
    "mean_age_low_income = low_income_data['age'].mean()\n",
    "std_age_low_income = low_income_data['age'].std()\n",
    "\n",
    "print(\"Для группы с доходом >50K:\")\n",
    "print(f\"  Средний возраст: {mean_age_high_income:.2f} лет\")\n",
    "print(f\"  Среднеквадратичное отклонение возраста: {std_age_high_income:.2f} лет\")\n",
    "\n",
    "print(\"\\nДля группы с доходом <=50K:\")\n",
    "print(f\"  Средний возраст: {mean_age_low_income:.2f} лет\")\n",
    "print(f\"  Среднеквадратичное отклонение возраста: {std_age_low_income:.2f} лет\")"
   ]
  },
  {
   "cell_type": "markdown",
   "metadata": {},
   "source": [
    "**6. Правда ли, что люди, которые получают больше 50k, имеют минимум высшее образование? (признак *education – Bachelors, Prof-school, Assoc-acdm, Assoc-voc, Masters* или *Doctorate*)**"
   ]
  },
  {
   "cell_type": "code",
   "execution_count": 40,
   "metadata": {},
   "outputs": [
    {
     "name": "stdout",
     "output_type": "stream",
     "text": [
      "Общее количество людей с доходом >50K: 7841\n",
      "Из них с высшим образованием: 4535\n",
      "Доля людей с высшим образованием среди тех, кто получает >50K: 57.84%\n",
      "\n",
      "Вывод: Нет, неправда. Не все люди, получающие >50K, имеют минимум высшее образование.\n",
      "\n",
      "Распределение образования среди людей с доходом >50K:\n",
      "education\n",
      "Bachelors       0.283255\n",
      "HS-grad         0.213621\n",
      "Some-college    0.176891\n",
      "Masters         0.122306\n",
      "Prof-school     0.053947\n",
      "Assoc-voc       0.046040\n",
      "Doctorate       0.039026\n",
      "Assoc-acdm      0.033797\n",
      "10th            0.007907\n",
      "11th            0.007652\n",
      "7th-8th         0.005101\n",
      "12th            0.004209\n",
      "9th             0.003443\n",
      "5th-6th         0.002041\n",
      "1st-4th         0.000765\n",
      "Name: proportion, dtype: float64\n"
     ]
    }
   ],
   "source": [
    "data['education'] = data['education'].str.strip()\n",
    "\n",
    "higher_education_levels = [\n",
    "    'Bachelors', 'Prof-school', 'Assoc-acdm', 'Assoc-voc', 'Masters', 'Doctorate'\n",
    "]\n",
    "\n",
    "high_income_higher_education = high_income_data[\n",
    "    high_income_data['education'].isin(higher_education_levels)\n",
    "]\n",
    "\n",
    "total_high_income = high_income_data.shape[0]\n",
    "\n",
    "count_high_income_higher_education = high_income_higher_education.shape[0]\n",
    "\n",
    "if total_high_income > 0:\n",
    "    proportion_higher_education_in_high_income = count_high_income_higher_education / total_high_income\n",
    "else:\n",
    "    proportion_higher_education_in_high_income = 0\n",
    "\n",
    "print(f\"Общее количество людей с доходом >50K: {total_high_income}\")\n",
    "print(f\"Из них с высшим образованием: {count_high_income_higher_education}\")\n",
    "print(f\"Доля людей с высшим образованием среди тех, кто получает >50K: {proportion_higher_education_in_high_income:.2%}\")\n",
    "\n",
    "if proportion_higher_education_in_high_income >= 0.9: \n",
    "    print(\"\\nВывод: Доля очень высока, поэтому можно сказать, что это правда.\")\n",
    "else:\n",
    "    print(\"\\nВывод: Нет, неправда. Не все люди, получающие >50K, имеют минимум высшее образование.\")\n",
    "\n",
    "print(\"\\nРаспределение образования среди людей с доходом >50K:\")\n",
    "print(high_income_data['education'].value_counts(normalize=True))"
   ]
  },
  {
   "cell_type": "markdown",
   "metadata": {},
   "source": [
    "**7. Выведите статистику возраста для каждой расы (признак *race*) и каждого пола. Используйте *groupby* и *describe*. Найдите таким образом максимальный возраст мужчин расы *Asian-Pac-Islander*.**"
   ]
  },
  {
   "cell_type": "code",
   "execution_count": 42,
   "metadata": {
    "scrolled": true
   },
   "outputs": [
    {
     "name": "stdout",
     "output_type": "stream",
     "text": [
      "Статистика возраста для каждой расы и каждого пола:\n",
      "                             count       mean        std   min   25%   50%  \\\n",
      "race               sex                                                       \n",
      "Amer-Indian-Eskimo Female    119.0  37.117647  13.114991  17.0  27.0  36.0   \n",
      "                   Male      192.0  37.208333  12.049563  17.0  28.0  35.0   \n",
      "Asian-Pac-Islander Female    346.0  35.089595  12.300845  17.0  25.0  33.0   \n",
      "                   Male      693.0  39.073593  12.883944  18.0  29.0  37.0   \n",
      "Black              Female   1555.0  37.854019  12.637197  17.0  28.0  37.0   \n",
      "                   Male     1569.0  37.682600  12.882612  17.0  27.0  36.0   \n",
      "Other              Female    109.0  31.678899  11.631599  17.0  23.0  29.0   \n",
      "                   Male      162.0  34.654321  11.355531  17.0  26.0  32.0   \n",
      "White              Female   8642.0  36.811618  14.329093  17.0  25.0  35.0   \n",
      "                   Male    19174.0  39.652498  13.436029  17.0  29.0  38.0   \n",
      "\n",
      "                             75%   max  \n",
      "race               sex                  \n",
      "Amer-Indian-Eskimo Female  46.00  80.0  \n",
      "                   Male    45.00  82.0  \n",
      "Asian-Pac-Islander Female  43.75  75.0  \n",
      "                   Male    46.00  90.0  \n",
      "Black              Female  46.00  90.0  \n",
      "                   Male    46.00  90.0  \n",
      "Other              Female  39.00  74.0  \n",
      "                   Male    42.00  77.0  \n",
      "White              Female  46.00  90.0  \n",
      "                   Male    49.00  90.0  \n",
      "\n",
      "Максимальный возраст мужчин расы Asian-Pac-Islander: 90 лет\n"
     ]
    }
   ],
   "source": [
    "data['race'] = data['race'].str.strip()\n",
    "data['sex'] = data['sex'].str.strip()\n",
    "\n",
    "age_stats = data.groupby(['race', 'sex'])['age'].describe()\n",
    "\n",
    "print(\"Статистика возраста для каждой расы и каждого пола:\")\n",
    "print(age_stats)\n",
    "\n",
    "try:\n",
    "    max_age_asian_male = age_stats.loc[('Asian-Pac-Islander', 'Male'), 'max']\n",
    "    print(f\"\\nМаксимальный возраст мужчин расы Asian-Pac-Islander: {max_age_asian_male:.0f} лет\")\n",
    "except KeyError:\n",
    "    print(\"\\nНе удалось найти максимальный возраст для мужчин расы Asian-Pac-Islander. Возможно, такой комбинации нет в данных.\")"
   ]
  },
  {
   "cell_type": "markdown",
   "metadata": {},
   "source": [
    "**8. Среди кого больше доля зарабатывающих много (>50K): среди женатых или холостых мужчин (признак *marital-status*)? Женатыми считаем тех, у кого *marital-status* начинается с *Married* (Married-civ-spouse, Married-spouse-absent или Married-AF-spouse), остальных считаем холостыми.**"
   ]
  },
  {
   "cell_type": "code",
   "execution_count": 46,
   "metadata": {},
   "outputs": [
    {
     "name": "stdout",
     "output_type": "stream",
     "text": [
      "Доля женатых мужчин, зарабатывающих >50K: 44.05%\n",
      "Доля холостых мужчин, зарабатывающих >50K: 8.45%\n",
      "\n",
      "Среди женатых мужчин доля зарабатывающих много (>50K) больше.\n"
     ]
    }
   ],
   "source": [
    "married_men = men_data[men_data['marital-status'].str.startswith('Married')]\n",
    "\n",
    "single_men = men_data[~men_data['marital-status'].str.startswith('Married')]\n",
    "\n",
    "total_married_men = married_men.shape[0]\n",
    "married_men_high_income = married_men[married_men['salary'] == '>50K'].shape[0]\n",
    "proportion_married_high_income = (married_men_high_income / total_married_men) if total_married_men > 0 else 0\n",
    "\n",
    "total_single_men = single_men.shape[0]\n",
    "single_men_high_income = single_men[single_men['salary'] == '>50K'].shape[0]\n",
    "proportion_single_high_income = (single_men_high_income / total_single_men) if total_single_men > 0 else 0\n",
    "\n",
    "print(f\"Доля женатых мужчин, зарабатывающих >50K: {proportion_married_high_income:.2%}\")\n",
    "print(f\"Доля холостых мужчин, зарабатывающих >50K: {proportion_single_high_income:.2%}\")\n",
    "\n",
    "if proportion_married_high_income > proportion_single_high_income:\n",
    "    print(\"\\nСреди женатых мужчин доля зарабатывающих много (>50K) больше.\")\n",
    "elif proportion_single_high_income > proportion_married_high_income:\n",
    "    print(\"\\nСреди холостых мужчин доля зарабатывающих много (>50K) больше.\")\n",
    "else:\n",
    "    print(\"\\nДоля зарабатывающих много (>50K) одинакова среди женатых и холостых мужчин.\")"
   ]
  },
  {
   "cell_type": "markdown",
   "metadata": {},
   "source": [
    "**9. Какое максимальное число часов человек работает в неделю (признак *hours-per-week*)? Сколько людей работают такое количество часов и каков среди них процент зарабатывающих много?**"
   ]
  },
  {
   "cell_type": "code",
   "execution_count": 48,
   "metadata": {},
   "outputs": [
    {
     "name": "stdout",
     "output_type": "stream",
     "text": [
      "Максимальное число часов человек работает в неделю: 99\n",
      "Количество людей, работающих 99 часов в неделю: 85\n",
      "Процент людей, зарабатывающих >50K среди работающих 99 часов: 29.41%\n"
     ]
    }
   ],
   "source": [
    "max_hours_per_week = data['hours-per-week'].max()\n",
    "print(f\"Максимальное число часов человек работает в неделю: {max_hours_per_week}\")\n",
    "\n",
    "people_at_max_hours = data[data['hours-per-week'] == max_hours_per_week]\n",
    "count_people_at_max_hours = people_at_max_hours.shape[0]\n",
    "print(f\"Количество людей, работающих {max_hours_per_week} часов в неделю: {count_people_at_max_hours}\")\n",
    "\n",
    "high_income_at_max_hours = people_at_max_hours[people_at_max_hours['salary'] == '>50K']\n",
    "count_high_income_at_max_hours = high_income_at_max_hours.shape[0]\n",
    "\n",
    "if count_people_at_max_hours > 0:\n",
    "    percentage_high_income_at_max_hours = (count_high_income_at_max_hours / count_people_at_max_hours) * 100\n",
    "else:\n",
    "    percentage_high_income_at_max_hours = 0\n",
    "\n",
    "print(f\"Процент людей, зарабатывающих >50K среди работающих {max_hours_per_week} часов: {percentage_high_income_at_max_hours:.2f}%\")"
   ]
  },
  {
   "cell_type": "markdown",
   "metadata": {},
   "source": [
    "**10. Посчитайте среднее время работы (*hours-per-week*) зарабатывающих мало и много (*salary*) для каждой страны (*native-country*).**"
   ]
  },
  {
   "cell_type": "code",
   "execution_count": 50,
   "metadata": {
    "scrolled": true
   },
   "outputs": [
    {
     "name": "stdout",
     "output_type": "stream",
     "text": [
      "Среднее время работы по странам для разных уровней дохода:\n",
      "native-country  salary\n",
      "?               <=50K     40.164760\n",
      "                >50K      45.547945\n",
      "Cambodia        <=50K     41.416667\n",
      "                >50K      40.000000\n",
      "Canada          <=50K     37.914634\n",
      "                            ...    \n",
      "United-States   >50K      45.505369\n",
      "Vietnam         <=50K     37.193548\n",
      "                >50K      39.200000\n",
      "Yugoslavia      <=50K     41.600000\n",
      "                >50K      49.500000\n",
      "Name: hours-per-week, Length: 82, dtype: float64\n"
     ]
    }
   ],
   "source": [
    "average_hours_by_country_salary = data.groupby(['native-country', 'salary'])['hours-per-week'].mean()\n",
    "\n",
    "print(\"Среднее время работы по странам для разных уровней дохода:\")\n",
    "print(average_hours_by_country_salary)"
   ]
  },
  {
   "cell_type": "markdown",
   "metadata": {},
   "source": [
    "**11.Сгруппируйте людей по возрастным группам *young*, *adult*, *retiree*, где:**\n",
    "* *young* соответствует 16-35 лет\n",
    "* *adult* - 35-70 лет\n",
    "* *retiree* - 70-100 лет\n",
    "\n",
    "**Проставьте название соответсвтуещей группы для каждого человека в новой колонке AgeGroup**"
   ]
  },
  {
   "cell_type": "code",
   "execution_count": 52,
   "metadata": {},
   "outputs": [
    {
     "name": "stdout",
     "output_type": "stream",
     "text": [
      "Первые 5 строк датасета с новой колонкой 'AgeGroup':\n",
      "   age AgeGroup\n",
      "0   39    adult\n",
      "1   50    adult\n",
      "2   38    adult\n",
      "3   53    adult\n",
      "4   28    young\n",
      "\n",
      "Количество людей в каждой возрастной группе:\n",
      "AgeGroup\n",
      "adult      17883\n",
      "young      14049\n",
      "retiree      629\n",
      "Name: count, dtype: int64\n",
      "\n",
      "Уникальные значения в 'AgeGroup':\n",
      "['adult', 'young', 'retiree']\n",
      "Categories (3, object): ['young' < 'adult' < 'retiree']\n"
     ]
    }
   ],
   "source": [
    "bins = [data['age'].min() - 1, 34, 69, data['age'].max() + 1]\n",
    "labels = ['young', 'adult', 'retiree']\n",
    "\n",
    "data['AgeGroup'] = pd.cut(data['age'], bins=bins, labels=labels, right=True)\n",
    "\n",
    "print(\"Первые 5 строк датасета с новой колонкой 'AgeGroup':\")\n",
    "print(data[['age', 'AgeGroup']].head())\n",
    "\n",
    "print(\"\\nКоличество людей в каждой возрастной группе:\")\n",
    "print(data['AgeGroup'].value_counts())\n",
    "\n",
    "print(\"\\nУникальные значения в 'AgeGroup':\")\n",
    "print(data['AgeGroup'].unique())"
   ]
  },
  {
   "cell_type": "markdown",
   "metadata": {},
   "source": [
    "**12-13. Определите количество зарабатывающих >50K в каждой из возрастных групп (колонка AgeGroup), а также выведите название возрастной группы, в которой чаще зарабатывают больше 50К (>50K)**"
   ]
  },
  {
   "cell_type": "code",
   "execution_count": 54,
   "metadata": {},
   "outputs": [
    {
     "name": "stdout",
     "output_type": "stream",
     "text": [
      "Количество людей, зарабатывающих >50K в каждой возрастной группе:\n",
      "AgeGroup\n",
      "young      1488\n",
      "adult      6240\n",
      "retiree     113\n",
      "Name: count, dtype: int64\n",
      "\n",
      "Возрастная группа, в которой чаще всего зарабатывают >50K: **adult**\n"
     ]
    }
   ],
   "source": [
    "high_income_by_agegroup = data[data['salary'] == '>50K']['AgeGroup'].value_counts().sort_index()\n",
    "\n",
    "print(\"Количество людей, зарабатывающих >50K в каждой возрастной группе:\")\n",
    "print(high_income_by_agegroup)\n",
    "\n",
    "if not high_income_by_agegroup.empty:\n",
    "    most_common_high_income_group = high_income_by_agegroup.idxmax()\n",
    "    print(f\"\\nВозрастная группа, в которой чаще всего зарабатывают >50K: **{most_common_high_income_group}**\")\n",
    "else:\n",
    "    print(\"\\nНет данных о людях, зарабатывающих >50K, для анализа возрастных групп.\")"
   ]
  },
  {
   "cell_type": "markdown",
   "metadata": {},
   "source": [
    "**14. Сгруппируйте людей по типу занятости (колонка occupation) и определите количество людей в каждой группе. После чего напишите функциюю фильтрации filter_func, которая будет возвращать только те группы, в которых средний возраст (колонка age) не больше 40 и в которых все работники отрабатывают более 5 часов в неделю (колонка hours-per-week)**"
   ]
  },
  {
   "cell_type": "code",
   "execution_count": 56,
   "metadata": {},
   "outputs": [
    {
     "name": "stdout",
     "output_type": "stream",
     "text": [
      "Количество людей в каждой группе занятости:\n",
      "occupation\n",
      "Prof-specialty       4140\n",
      "Craft-repair         4099\n",
      "Exec-managerial      4066\n",
      "Adm-clerical         3770\n",
      "Sales                3650\n",
      "Other-service        3295\n",
      "Machine-op-inspct    2002\n",
      "?                    1843\n",
      "Transport-moving     1597\n",
      "Handlers-cleaners    1370\n",
      "Farming-fishing       994\n",
      "Tech-support          928\n",
      "Protective-serv       649\n",
      "Priv-house-serv       149\n",
      "Armed-Forces            9\n",
      "Name: count, dtype: int64\n",
      "\n",
      "Группы занятости, соответствующие условиям фильтрации (средний возраст <= 40 и все работают > 5 часов в неделю):\n",
      "- Armed-Forces\n"
     ]
    }
   ],
   "source": [
    "data['occupation'] = data['occupation'].str.strip()\n",
    "\n",
    "occupation_counts = data['occupation'].value_counts()\n",
    "print(\"Количество людей в каждой группе занятости:\")\n",
    "print(occupation_counts)\n",
    "\n",
    "def filter_func(group_data):\n",
    "    avg_age = group_data['age'].mean()\n",
    "    condition_age = avg_age <= 40\n",
    "\n",
    "    condition_hours = (group_data['hours-per-week'] > 5).all()\n",
    "\n",
    "    return condition_age and condition_hours\n",
    "\n",
    "filtered_occupations = data.groupby('occupation').filter(filter_func)\n",
    "\n",
    "filtered_occupation_names = filtered_occupations['occupation'].unique()\n",
    "\n",
    "print(\"\\nГруппы занятости, соответствующие условиям фильтрации (средний возраст <= 40 и все работают > 5 часов в неделю):\")\n",
    "if len(filtered_occupation_names) > 0:\n",
    "    for occupation in filtered_occupation_names:\n",
    "        print(f\"- {occupation}\")\n",
    "else:\n",
    "    print(\"Нет групп занятости, удовлетворяющих заданным условиям.\")"
   ]
  },
  {
   "cell_type": "code",
   "execution_count": null,
   "metadata": {},
   "outputs": [],
   "source": []
  }
 ],
 "metadata": {
  "anaconda-cloud": {},
  "kernelspec": {
   "display_name": "Python 3 (ipykernel)",
   "language": "python",
   "name": "python3"
  },
  "language_info": {
   "codemirror_mode": {
    "name": "ipython",
    "version": 3
   },
   "file_extension": ".py",
   "mimetype": "text/x-python",
   "name": "python",
   "nbconvert_exporter": "python",
   "pygments_lexer": "ipython3",
   "version": "3.12.7"
  }
 },
 "nbformat": 4,
 "nbformat_minor": 4
}
